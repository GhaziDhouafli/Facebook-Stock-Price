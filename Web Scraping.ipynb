{
 "cells": [
  {
   "cell_type": "code",
   "execution_count": 1,
   "id": "1e06acd7-fa25-40da-976f-21de2ae76ab1",
   "metadata": {
    "tags": []
   },
   "outputs": [],
   "source": [
    "import pandas as pd\n",
    "from bs4 import BeautifulSoup\n",
    "import codecs\n",
    "import os"
   ]
  },
  {
   "cell_type": "code",
   "execution_count": 6,
   "id": "31c12e0e-fb57-43e3-9d27-ea53ba27ea39",
   "metadata": {
    "tags": []
   },
   "outputs": [],
   "source": [
    "def scrape(x):\n",
    "    date_list=[]\n",
    "    open_list=[]\n",
    "    high_list=[]\n",
    "    low_list=[]\n",
    "    close_list=[]\n",
    "    adjclose_list=[]\n",
    "    volume_list=[]\n",
    "    df=pd.DataFrame()\n",
    "    file = codecs.open(\"C:/Users/ASUS/FAANG/HTML Files/\"+x+\".html\", \"r\", \"utf-8\")\n",
    "    soup = BeautifulSoup(file, 'html.parser') \n",
    "    tr=soup.findAll('tr',attrs={'class':'BdT Bdc($seperatorColor) Ta(end) Fz(s) Whs(nw)'})\n",
    "    for i in tr:\n",
    "        try:\n",
    "          date=i.find('td',attrs={'class':'Py(10px) Ta(start) Pend(10px)'})\n",
    "          date_list.append(date.text)\n",
    "          new_column=i.findAll('td',attrs={'class':'Py(10px) Pstart(10px)'})\n",
    "          s=0\n",
    "          for j in new_column:\n",
    "            if(s==0):\n",
    "              open_list.append(j.text)\n",
    "              s=s+1\n",
    "            elif(s==1):\n",
    "              high_list.append(j.text)\n",
    "              s=s+1\n",
    "            elif(s==2):\n",
    "              low_list.append(j.text)\n",
    "              s=s+1\n",
    "            elif(s==3):\n",
    "              close_list.append(j.text)\n",
    "              s=s+1\n",
    "            elif(s==4):\n",
    "              adjclose_list.append(j.text)\n",
    "              s=s+1\n",
    "            else:\n",
    "              volume_list.append(j.text)\n",
    "        except:\n",
    "          continue   \n",
    "    df['date']=date_list\n",
    "    df['open']=open_list\n",
    "    df['open'] = df['open'].str.replace('.', ',')\n",
    "    df['high']=high_list\n",
    "    df['high'] = df['high'].str.replace('.', ',')\n",
    "    df['low']=low_list\n",
    "    df['low'] = df['low'].str.replace('.', ',')\n",
    "    df['close']=close_list\n",
    "    df['close'] = df['close'].str.replace('.', ',')\n",
    "    df['Adj close']=adjclose_list\n",
    "    df['Adj close'] = df['Adj close'].str.replace('.', ',')\n",
    "    df['volume']=volume_list\n",
    "    df['volume'] = df['volume'].str.replace(',', ' ')\n",
    "    \n",
    "    file_path = \"C:/Users/ASUS/FAANG/Datasets/\"+x+\".xlsx\"\n",
    "    df.to_excel(file_path, index=False)"
   ]
  },
  {
   "cell_type": "code",
   "execution_count": null,
   "id": "443f140b-1304-4f48-bfab-9919181f850d",
   "metadata": {
    "tags": []
   },
   "outputs": [],
   "source": [
    "scrape(\"Facebook\")"
   ]
  }
 ],
 "metadata": {
  "kernelspec": {
   "display_name": "Python 3 (ipykernel)",
   "language": "python",
   "name": "python3"
  },
  "language_info": {
   "codemirror_mode": {
    "name": "ipython",
    "version": 3
   },
   "file_extension": ".py",
   "mimetype": "text/x-python",
   "name": "python",
   "nbconvert_exporter": "python",
   "pygments_lexer": "ipython3",
   "version": "3.9.16"
  }
 },
 "nbformat": 4,
 "nbformat_minor": 5
}
